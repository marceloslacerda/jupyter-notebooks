{
 "metadata": {
  "name": "",
  "signature": "sha256:9bbeaf7ec79943ad18c739fb051600c941569b88b9e57d97d8d645eb1f19424c"
 },
 "nbformat": 3,
 "nbformat_minor": 0,
 "worksheets": [
  {
   "cells": [
    {
     "cell_type": "code",
     "collapsed": false,
     "input": [],
     "language": "python",
     "metadata": {},
     "outputs": [],
     "prompt_number": 1
    },
    {
     "cell_type": "code",
     "collapsed": false,
     "input": [
      "import numpy"
     ],
     "language": "python",
     "metadata": {},
     "outputs": [],
     "prompt_number": 2
    },
    {
     "cell_type": "code",
     "collapsed": false,
     "input": [
      "reps = timeit.repeat(\n",
      "number= 3,\n",
      "repeat= 20,\n",
      "stmt=\"\"\"s = socket.socket(socket.AF_INET, socket.SOCK_STREAM);\n",
      "s.connect(('172.17.1.142', 1972));\n",
      "s.close()\"\"\", setup='import socket')"
     ],
     "language": "python",
     "metadata": {},
     "outputs": [
      {
       "ename": "NameError",
       "evalue": "name 'timeit' is not defined",
       "output_type": "pyerr",
       "traceback": [
        "\u001b[0;31m---------------------------------------------------------------------------\u001b[0m\n\u001b[0;31mNameError\u001b[0m                                 Traceback (most recent call last)",
        "\u001b[0;32m<ipython-input-2-835c3b749823>\u001b[0m in \u001b[0;36m<module>\u001b[0;34m()\u001b[0m\n\u001b[0;32m----> 1\u001b[0;31m reps = timeit.repeat(\n\u001b[0m\u001b[1;32m      2\u001b[0m \u001b[0mnumber\u001b[0m\u001b[0;34m=\u001b[0m \u001b[0;36m3\u001b[0m\u001b[0;34m,\u001b[0m\u001b[0;34m\u001b[0m\u001b[0m\n\u001b[1;32m      3\u001b[0m \u001b[0mrepeat\u001b[0m\u001b[0;34m=\u001b[0m \u001b[0;36m20\u001b[0m\u001b[0;34m,\u001b[0m\u001b[0;34m\u001b[0m\u001b[0m\n\u001b[1;32m      4\u001b[0m stmt=\"\"\"s = socket.socket(socket.AF_INET, socket.SOCK_STREAM);\n\u001b[1;32m      5\u001b[0m \u001b[0ms\u001b[0m\u001b[0;34m.\u001b[0m\u001b[0mconnect\u001b[0m\u001b[0;34m(\u001b[0m\u001b[0;34m(\u001b[0m\u001b[0;34m'172.17.1.142'\u001b[0m\u001b[0;34m,\u001b[0m \u001b[0;36m1972\u001b[0m\u001b[0;34m)\u001b[0m\u001b[0;34m)\u001b[0m\u001b[0;34m;\u001b[0m\u001b[0;34m\u001b[0m\u001b[0m\n",
        "\u001b[0;31mNameError\u001b[0m: name 'timeit' is not defined"
       ]
      }
     ],
     "prompt_number": 2
    },
    {
     "cell_type": "code",
     "collapsed": false,
     "input": [
      "import timeit\n",
      "reps = timeit.repeat(\n",
      "number= 3,\n",
      "repeat= 20,\n",
      "stmt=\"\"\"s = socket.socket(socket.AF_INET, socket.SOCK_STREAM);\n",
      "s.connect(('172.17.1.142', 1972));\n",
      "s.close()\"\"\", setup='import socket')"
     ],
     "language": "python",
     "metadata": {},
     "outputs": [],
     "prompt_number": 3
    },
    {
     "cell_type": "code",
     "collapsed": false,
     "input": [
      "reps"
     ],
     "language": "python",
     "metadata": {},
     "outputs": [
      {
       "metadata": {},
       "output_type": "pyout",
       "prompt_number": 4,
       "text": [
        "[0.002540111541748047,\n",
        " 0.002207040786743164,\n",
        " 0.0026900768280029297,\n",
        " 0.0025069713592529297,\n",
        " 0.002341032028198242,\n",
        " 1.001979112625122,\n",
        " 1.997849941253662,\n",
        " 3.0051469802856445,\n",
        " 0.0031309127807617188,\n",
        " 0.0022039413452148438,\n",
        " 0.999100923538208,\n",
        " 10.015340089797974,\n",
        " 7.0110039710998535,\n",
        " 0.999971866607666,\n",
        " 4.004894018173218,\n",
        " 1.0006020069122314,\n",
        " 15.03560209274292,\n",
        " 0.0023088455200195312,\n",
        " 31.068453073501587,\n",
        " 1.001443862915039]"
       ]
      }
     ],
     "prompt_number": 4
    },
    {
     "cell_type": "code",
     "collapsed": false,
     "input": [
      "reps[0]"
     ],
     "language": "python",
     "metadata": {},
     "outputs": [
      {
       "metadata": {},
       "output_type": "pyout",
       "prompt_number": 5,
       "text": [
        "0.002540111541748047"
       ]
      }
     ],
     "prompt_number": 5
    },
    {
     "cell_type": "code",
     "collapsed": false,
     "input": [],
     "language": "python",
     "metadata": {},
     "outputs": []
    }
   ],
   "metadata": {}
  }
 ]
}