{
 "cells": [
  {
   "cell_type": "markdown",
   "metadata": {},
   "source": [
    "# Project For P2 - Introduction To Data Analysis\n",
    "\n",
    "## Introduction\n",
    "This project seeks to analyse [Lahman’s Baseball Database](http://www.seanlahman.com/baseball-archive/statistics/) from 1871 to 2015. I am going to analyse the player/manager awards and their respective salaries and try to understand their relationship.\n"
   ]
  },
  {
   "cell_type": "markdown",
   "metadata": {},
   "source": [
    "## The data set\n",
    "\n",
    "In seanlahman.com serveral options for accquiring the data set are given(access, CSV and sql), for this project it was chosen the CSV files since they can be easily imported with the [pandas](http://pandas.pydata.org/) library.\n",
    "\n",
    "The data set comes in a zip bundle that contains several CSV files(referred also as tables throught the rest of this project). Each table relates to a set of statistics about pitching, hitting, and fielding statistics for american baseball games from 1871 through 2015. The layout of the contents of CSV files(the order of the columns) and the detailed description of each column can be found in the [dataset readme](http://seanlahman.com/files/database/readme2014.txt).\n"
   ]
  },
  {
   "cell_type": "markdown",
   "metadata": {},
   "source": [
    "## Step One - Choose Your Data Set\n",
    "Choose one of the following datasets to analyze for your project:\n",
    "\n",
    "* Titanic Data - Contains demographics and passenger information from 891 of the 2224 passengers and crew on board the Titanic. You can view a description of this dataset on the Kaggle website, where the data was obtained.\n",
    "* Baseball Data - A data set containing complete batting and pitching statistics from 1871 to 2014, plus fielding statistics, standings, team stats, managerial records, post-season data, and more. This dataset contains many files, but you can choose to analyze only the one(s) you are most interested in.\n",
    "\n",
    "_Choose the comma-delimited version, which contains CSV files._\n",
    "**#todo remove**"
   ]
  },
  {
   "cell_type": "markdown",
   "metadata": {},
   "source": [
    "## Step Two - Get Organized\n",
    "Eventually you’ll want to submit your project (and share it with friends, family, and employers). Get organized before you begin. We recommend creating a single folder that will eventually contain:\n",
    "\n",
    "* The report communicating your findings\n",
    "* Any Python code you wrote as part of your analysis\n",
    "* The data set you used (which you will not need to submit)\n",
    "* You may wish to use IPython notebook, in which case you can submit both the code you wrote and the report of your findings in the same document. Otherwise, you will need to submit your report and code separately.\n",
    "\n",
    "**remove**"
   ]
  },
  {
   "cell_type": "markdown",
   "metadata": {},
   "source": [
    "## Step Three - Analyze Your Data\n",
    "Brainstorm some questions you could answer using the data set you chose, then start answering those questions. Here are some ideas to get you started:\n",
    "\n",
    "### Titanic Data\n",
    "* What factors made people more likely to survive?\n",
    "\n",
    "### Baseball Data\n",
    "* What is the relationship between different performance metrics? Do any have a strong negative or positive relationship?\n",
    "What are the characteristics of baseball players with the highest salaries?\n",
    "\n",
    "\n",
    "Try and suggest questions that promote looking at relationships between multiple variables. You should aim to analyze at least one dependent variable and three independent variables in your investigation.\n",
    "\n",
    "_Make sure you use NumPy and Pandas where they are appropriate!_\n",
    "\n"
   ]
  },
  {
   "cell_type": "markdown",
   "metadata": {},
   "source": [
    "For this project I'm going to analyse the relationship between player salary and player income.\n",
    "\n",
    "1. Do salaries increase when a player receives an award?\n",
    "2. Do salaries increase before a player receives an award?\n",
    "3. Do salaries keep increasing the more awards a player gets?\n",
    "4. By how much does a salary is expected to increase after an award?\n",
    "5. Do players that receive awards tend to play in the same teams?\n",
    "6. Is there an award winning player creep in teams?(Are some teams collecting award winning players and not hiring other players)?\n",
    "\n"
   ]
  },
  {
   "cell_type": "markdown",
   "metadata": {},
   "source": [
    "### Before analyzing I must first import some libraries"
   ]
  },
  {
   "cell_type": "code",
   "execution_count": 1,
   "metadata": {
    "collapsed": false
   },
   "outputs": [],
   "source": [
    "import pandas as pd, zipfile, os.path, numpy as np#, humanize\n",
    "%matplotlib inline\n",
    "import seaborn as sn\n",
    "import matplotlib.pyplot as plt\n",
    "import matplotlib\n",
    "matplotlib.style.use('ggplot')"
   ]
  },
  {
   "cell_type": "markdown",
   "metadata": {},
   "source": [
    "### And extract the data from the zip file and put it in some variables"
   ]
  },
  {
   "cell_type": "code",
   "execution_count": 2,
   "metadata": {
    "collapsed": false
   },
   "outputs": [],
   "source": [
    "salaries_table = pd.read_csv('csvs/Salaries.csv')\n",
    "awards_table = pd.read_csv('csvs/AwardsPlayers.csv')"
   ]
  },
  {
   "cell_type": "markdown",
   "metadata": {},
   "source": [
    "### Next I want to get a look at the data"
   ]
  },
  {
   "cell_type": "code",
   "execution_count": 3,
   "metadata": {
    "collapsed": false
   },
   "outputs": [
    {
     "data": {
      "text/html": [
       "<div>\n",
       "<table border=\"1\" class=\"dataframe\">\n",
       "  <thead>\n",
       "    <tr style=\"text-align: right;\">\n",
       "      <th></th>\n",
       "      <th>yearID</th>\n",
       "      <th>teamID</th>\n",
       "      <th>lgID</th>\n",
       "      <th>playerID</th>\n",
       "      <th>salary</th>\n",
       "    </tr>\n",
       "  </thead>\n",
       "  <tbody>\n",
       "    <tr>\n",
       "      <th>0</th>\n",
       "      <td>1985</td>\n",
       "      <td>ATL</td>\n",
       "      <td>NL</td>\n",
       "      <td>barkele01</td>\n",
       "      <td>870000</td>\n",
       "    </tr>\n",
       "    <tr>\n",
       "      <th>1</th>\n",
       "      <td>1985</td>\n",
       "      <td>ATL</td>\n",
       "      <td>NL</td>\n",
       "      <td>bedrost01</td>\n",
       "      <td>550000</td>\n",
       "    </tr>\n",
       "    <tr>\n",
       "      <th>2</th>\n",
       "      <td>1985</td>\n",
       "      <td>ATL</td>\n",
       "      <td>NL</td>\n",
       "      <td>benedbr01</td>\n",
       "      <td>545000</td>\n",
       "    </tr>\n",
       "    <tr>\n",
       "      <th>3</th>\n",
       "      <td>1985</td>\n",
       "      <td>ATL</td>\n",
       "      <td>NL</td>\n",
       "      <td>campri01</td>\n",
       "      <td>633333</td>\n",
       "    </tr>\n",
       "    <tr>\n",
       "      <th>4</th>\n",
       "      <td>1985</td>\n",
       "      <td>ATL</td>\n",
       "      <td>NL</td>\n",
       "      <td>ceronri01</td>\n",
       "      <td>625000</td>\n",
       "    </tr>\n",
       "  </tbody>\n",
       "</table>\n",
       "</div>"
      ],
      "text/plain": [
       "   yearID teamID lgID   playerID  salary\n",
       "0    1985    ATL   NL  barkele01  870000\n",
       "1    1985    ATL   NL  bedrost01  550000\n",
       "2    1985    ATL   NL  benedbr01  545000\n",
       "3    1985    ATL   NL   campri01  633333\n",
       "4    1985    ATL   NL  ceronri01  625000"
      ]
     },
     "execution_count": 3,
     "metadata": {},
     "output_type": "execute_result"
    }
   ],
   "source": [
    "salaries_table.head()"
   ]
  },
  {
   "cell_type": "code",
   "execution_count": 4,
   "metadata": {
    "collapsed": false
   },
   "outputs": [
    {
     "data": {
      "text/plain": [
       "count    25575\n",
       "mean      2008\n",
       "std       3315\n",
       "min          0\n",
       "25%        275\n",
       "50%        550\n",
       "75%       2250\n",
       "max      33000\n",
       "Name: salary, dtype: int64"
      ]
     },
     "execution_count": 4,
     "metadata": {},
     "output_type": "execute_result"
    }
   ],
   "source": [
    "ksalary = salaries_table['salary']/1000\n",
    "ksalary.describe().apply(np.int64)"
   ]
  },
  {
   "cell_type": "code",
   "execution_count": 5,
   "metadata": {
    "collapsed": false
   },
   "outputs": [
    {
     "data": {
      "text/plain": [
       "<matplotlib.text.Text at 0x7f01f44257d0>"
      ]
     },
     "execution_count": 5,
     "metadata": {},
     "output_type": "execute_result"
    },
    {
     "data": {
      "image/png": "[encoded data removed]",
      "text/plain": [
       "<matplotlib.figure.Figure at 0x7f01c69c73d0>"
      ]
     },
     "metadata": {},
     "output_type": "display_data"
    }
   ],
   "source": [
    "plt.figure()\n",
    "axes = (ksalary).hist()\n",
    "axes.set_xlabel(\"Salary\")\n",
    "axes.set_ylabel(\"Frequency\")"
   ]
  },
  {
   "cell_type": "code",
   "execution_count": 6,
   "metadata": {
    "collapsed": false
   },
   "outputs": [
    {
     "data": {
      "text/html": [
       "<div>\n",
       "<table border=\"1\" class=\"dataframe\">\n",
       "  <thead>\n",
       "    <tr style=\"text-align: right;\">\n",
       "      <th></th>\n",
       "      <th>playerID</th>\n",
       "      <th>awardID</th>\n",
       "      <th>yearID</th>\n",
       "      <th>lgID</th>\n",
       "      <th>tie</th>\n",
       "      <th>notes</th>\n",
       "    </tr>\n",
       "  </thead>\n",
       "  <tbody>\n",
       "    <tr>\n",
       "      <th>0</th>\n",
       "      <td>bondto01</td>\n",
       "      <td>Pitching Triple Crown</td>\n",
       "      <td>1877</td>\n",
       "      <td>NL</td>\n",
       "      <td>NaN</td>\n",
       "      <td>NaN</td>\n",
       "    </tr>\n",
       "    <tr>\n",
       "      <th>1</th>\n",
       "      <td>hinespa01</td>\n",
       "      <td>Triple Crown</td>\n",
       "      <td>1878</td>\n",
       "      <td>NL</td>\n",
       "      <td>NaN</td>\n",
       "      <td>NaN</td>\n",
       "    </tr>\n",
       "    <tr>\n",
       "      <th>2</th>\n",
       "      <td>heckegu01</td>\n",
       "      <td>Pitching Triple Crown</td>\n",
       "      <td>1884</td>\n",
       "      <td>AA</td>\n",
       "      <td>NaN</td>\n",
       "      <td>NaN</td>\n",
       "    </tr>\n",
       "    <tr>\n",
       "      <th>3</th>\n",
       "      <td>radboch01</td>\n",
       "      <td>Pitching Triple Crown</td>\n",
       "      <td>1884</td>\n",
       "      <td>NL</td>\n",
       "      <td>NaN</td>\n",
       "      <td>NaN</td>\n",
       "    </tr>\n",
       "    <tr>\n",
       "      <th>4</th>\n",
       "      <td>oneilti01</td>\n",
       "      <td>Triple Crown</td>\n",
       "      <td>1887</td>\n",
       "      <td>AA</td>\n",
       "      <td>NaN</td>\n",
       "      <td>NaN</td>\n",
       "    </tr>\n",
       "  </tbody>\n",
       "</table>\n",
       "</div>"
      ],
      "text/plain": [
       "    playerID                awardID  yearID lgID  tie notes\n",
       "0   bondto01  Pitching Triple Crown    1877   NL  NaN   NaN\n",
       "1  hinespa01           Triple Crown    1878   NL  NaN   NaN\n",
       "2  heckegu01  Pitching Triple Crown    1884   AA  NaN   NaN\n",
       "3  radboch01  Pitching Triple Crown    1884   NL  NaN   NaN\n",
       "4  oneilti01           Triple Crown    1887   AA  NaN   NaN"
      ]
     },
     "execution_count": 6,
     "metadata": {},
     "output_type": "execute_result"
    }
   ],
   "source": [
    "awards_table.head()"
   ]
  },
  {
   "cell_type": "code",
   "execution_count": 7,
   "metadata": {
    "collapsed": false
   },
   "outputs": [
    {
     "data": {
      "text/html": [
       "<div>\n",
       "<table border=\"1\" class=\"dataframe\">\n",
       "  <thead>\n",
       "    <tr style=\"text-align: right;\">\n",
       "      <th></th>\n",
       "      <th>yearID</th>\n",
       "      <th>teamID</th>\n",
       "      <th>lgID</th>\n",
       "      <th>salary</th>\n",
       "    </tr>\n",
       "    <tr>\n",
       "      <th>playerID</th>\n",
       "      <th></th>\n",
       "      <th></th>\n",
       "      <th></th>\n",
       "      <th></th>\n",
       "    </tr>\n",
       "  </thead>\n",
       "  <tbody>\n",
       "    <tr>\n",
       "      <th>aardsda01</th>\n",
       "      <td>7</td>\n",
       "      <td>7</td>\n",
       "      <td>7</td>\n",
       "      <td>7</td>\n",
       "    </tr>\n",
       "    <tr>\n",
       "      <th>aasedo01</th>\n",
       "      <td>4</td>\n",
       "      <td>4</td>\n",
       "      <td>4</td>\n",
       "      <td>4</td>\n",
       "    </tr>\n",
       "    <tr>\n",
       "      <th>abadan01</th>\n",
       "      <td>1</td>\n",
       "      <td>1</td>\n",
       "      <td>1</td>\n",
       "      <td>1</td>\n",
       "    </tr>\n",
       "    <tr>\n",
       "      <th>abadfe01</th>\n",
       "      <td>4</td>\n",
       "      <td>4</td>\n",
       "      <td>4</td>\n",
       "      <td>4</td>\n",
       "    </tr>\n",
       "    <tr>\n",
       "      <th>abbotje01</th>\n",
       "      <td>4</td>\n",
       "      <td>4</td>\n",
       "      <td>4</td>\n",
       "      <td>4</td>\n",
       "    </tr>\n",
       "  </tbody>\n",
       "</table>\n",
       "</div>"
      ],
      "text/plain": [
       "           yearID  teamID  lgID  salary\n",
       "playerID                               \n",
       "aardsda01       7       7     7       7\n",
       "aasedo01        4       4     4       4\n",
       "abadan01        1       1     1       1\n",
       "abadfe01        4       4     4       4\n",
       "abbotje01       4       4     4       4"
      ]
     },
     "execution_count": 7,
     "metadata": {},
     "output_type": "execute_result"
    }
   ],
   "source": [
    "salaries_table.groupby('playerID').count().head()"
   ]
  },
  {
   "cell_type": "markdown",
   "metadata": {},
   "source": [
    "Now that I'm familiar with the data I can start analyzing\n",
    "\n",
    "1. Do salaries increase when a player receives an award?\n",
    "\n",
    "In order to do that I'm going grab the day that a player received his first award and use that to know the average salary before and after the award.\n",
    "\n",
    "Now before diving into that, is the set of pairs (yearID, playerID) in awards a subset of the set of pairs of (yearID, playerID) in salaries?"
   ]
  },
  {
   "cell_type": "code",
   "execution_count": 8,
   "metadata": {
    "collapsed": false
   },
   "outputs": [
    {
     "name": "stdout",
     "output_type": "stream",
     "text": [
      "playerID    2242\n",
      "yearID      2242\n",
      "dtype: int64\n",
      "playerID    24097\n",
      "yearID      24097\n",
      "dtype: int64\n"
     ]
    }
   ],
   "source": [
    "from pandas import DataFrame\n",
    "\n",
    "# There are some duplcates in the salary table, I should take care of that later\n",
    "salaries_table.count() - salaries_table.drop_duplicates(['playerID', 'yearID']).count()\n",
    "\n",
    "salaries_table[['playerID', 'yearID']].drop_duplicates().count()\n",
    "\n",
    "def df_to_set(df):\n",
    "    return {(tuple(l) if type(l) is list else l) for l in df.values.tolist()}\n",
    "\n",
    "def set_to_df(set_, columns):\n",
    "    return DataFrame(list(set_), columns=columns)\n",
    "\n",
    "def set_subtraction(df1, df2):\n",
    "    ds1 = df_to_set(df1)\n",
    "    ds2 = df_to_set(df2)\n",
    "    subtracted_set = ds2 - ds1\n",
    "    return set_to_df(subtracted_set, list(df1))\n",
    "\n",
    "# Ok, we shouldn't expect our resulting table to be as big as the awards table,\n",
    "# because in some years a player received an award but did not register in the salaries table\n",
    "subtracted = set_subtraction(salaries_table[['playerID', 'yearID']], awards_table[['playerID', 'yearID']])\n",
    "print subtracted.count()\n",
    "subtracted = set_subtraction(awards_table[['playerID', 'yearID']], salaries_table[['playerID', 'yearID']])\n",
    "print subtracted.count()"
   ]
  },
  {
   "cell_type": "markdown",
   "metadata": {},
   "source": [
    "So, we can start making the query that we initially set out to make, but before doing that, it's usefult to break it down into steps:\n",
    "\n",
    "1. Retrieve a list of players that got an award.\n",
    "2. Retreive a list of years that each player got their first award.\n",
    "3. Extract a list of salaries before the year of their first award, calculate the mean of those salaries.\n",
    "4. Extract a list of salaries after the year of their first award, calculate the mean of those salaries.\n",
    "5. Calculate the average between the differences in salaries.\n",
    "6. Do the salaries grow?\n",
    "7. If it exists, is the growth attributable to the award?\n",
    "8. Explore further."
   ]
  },
  {
   "cell_type": "markdown",
   "metadata": {},
   "source": [
    "### Retrieve a list of players that got an award."
   ]
  },
  {
   "cell_type": "code",
   "execution_count": 9,
   "metadata": {
    "collapsed": false
   },
   "outputs": [
    {
     "name": "stdout",
     "output_type": "stream",
     "text": [
      "1323 4963 658\n",
      "    playerID\n",
      "0  hrbekke01\n",
      "1  fostege01\n",
      "2  hollaal01\n",
      "3  aurilri01\n",
      "4  anderga01\n"
     ]
    }
   ],
   "source": [
    "playersfromawards = df_to_set(awards_table['playerID'])\n",
    "playersfromsalaries = df_to_set(salaries_table['playerID'])\n",
    "awardwinningplayers = set_to_df(playersfromawards.intersection(playersfromsalaries), ['playerID'])\n",
    "print len(playersfromawards), len(playersfromsalaries), len(awardwinningplayers)\n",
    "print awardwinningplayers.head()\n"
   ]
  },
  {
   "cell_type": "markdown",
   "metadata": {},
   "source": [
    "### Retreive a list of awards that each player got."
   ]
  },
  {
   "cell_type": "code",
   "execution_count": 10,
   "metadata": {
    "collapsed": false
   },
   "outputs": [
    {
     "name": "stdout",
     "output_type": "stream",
     "text": [
      "       playerID  yearID\n",
      "5333  abreubo01    2004\n",
      "5384  abreubo01    2005\n",
      "    playerID  yearID\n",
      "0  ayalabo01    1954\n",
      "1   rosepe01    1963\n",
      "2   rosepe01    1965\n",
      "3   rosepe01    1966\n",
      "4   rosepe01    1968\n",
      "    playerID  yearID\n",
      "0  abbotji01    1991\n",
      "1  abreubo01    2004\n",
      "2  abreujo02    2014\n",
      "3  alfonan01    2000\n",
      "4  alfoned01    1999\n"
     ]
    }
   ],
   "source": [
    "awardsyears = awards_table[['playerID', 'yearID']]\n",
    "print awardsyears[awardsyears.playerID == 'abreubo01']\n",
    "awardsyears = awardsyears.merge(awardwinningplayers, on=['playerID'])\n",
    "print awardsyears.head()\n",
    "awardsyears = awardsyears.groupby('playerID', as_index=False).first()\n",
    "print awardsyears.head()"
   ]
  },
  {
   "cell_type": "markdown",
   "metadata": {},
   "source": [
    "### Extract a list of salaries before the year of their first award, calculate the mean of those salaries."
   ]
  },
  {
   "cell_type": "code",
   "execution_count": 23,
   "metadata": {
    "collapsed": false
   },
   "outputs": [
    {
     "name": "stdout",
     "output_type": "stream",
     "text": [
      "Mean before\n",
      "playerID\n",
      "abbotji01    1.265000e+05\n",
      "abreubo01    3.439952e+06\n",
      "abreujo02             NaN\n",
      "alfonan01    1.916667e+05\n",
      "alfoned01    5.635000e+05\n",
      "Name: salary, dtype: float64\n",
      "     playerID  firstAward  yearID teamID lgID   salary\n",
      "25  abreujo02        2014    2014    CHA   AL  7000000\n",
      "26  abreujo02        2014    2015    CHA   AL  8666000\n",
      "Mean after\n",
      "playerID\n",
      "abbotji01    2.058333e+06\n",
      "abreubo01    1.121250e+07\n",
      "abreujo02    8.666000e+06\n",
      "alfonan01    2.111429e+06\n",
      "alfoned01    6.025000e+06\n",
      "Name: salary, dtype: float64\n",
      "Mean differences\n",
      "playerID\n",
      "abbotji01    1.931833e+06\n",
      "abreubo01    7.772548e+06\n",
      "abreujo02             NaN\n",
      "alfonan01    1.919762e+06\n",
      "alfoned01    5.461500e+06\n",
      "Name: salary, dtype: float64\n"
     ]
    }
   ],
   "source": [
    "awardsyears = awardsyears.rename(index=str, columns={\"yearID\": \"firstAward\"})\n",
    "\n",
    "merged = awardsyears.merge(salaries_table, on='playerID')\n",
    "grouped = merged.groupby('playerID')\n",
    "\n",
    "def mean_before_first_award(df):\n",
    "    return df[df.yearID < df.firstAward]['salary'].mean()\n",
    "\n",
    "means_before = grouped.aggregate(mean_before_first_award)['salary']\n",
    "\n",
    "print 'Mean before'\n",
    "print means_before.head()\n",
    "\n",
    "# We can see that the average before for the playerid abreujo02 is NaN. Is this result correct?\n",
    "\n",
    "print grouped.get_group('abreujo02')\n",
    "\n",
    "# Since there was no salary record before 2014 there was nothing to average on\n",
    "\n",
    "# Lets also get the average for salaries that come after the award\n",
    "\n",
    "def mean_after_first_award(df):\n",
    "    return df[df.yearID > df.firstAward]['salary'].mean()\n",
    "\n",
    "means_after = grouped.aggregate(mean_after_first_award)['salary']\n",
    "\n",
    "print 'Mean after'\n",
    "print means_after.head()\n",
    "\n",
    "#Now lets get the differences between the means\n",
    "\n",
    "mean_differences = means_after - means_before\n",
    "print 'Mean differences'\n",
    "print mean_differences.head()"
   ]
  },
  {
   "cell_type": "code",
   "execution_count": 25,
   "metadata": {
    "collapsed": false
   },
   "outputs": [
    {
     "data": {
      "text/plain": [
       "<matplotlib.axes._subplots.AxesSubplot at 0x7f01c51aa250>"
      ]
     },
     "execution_count": 25,
     "metadata": {},
     "output_type": "execute_result"
    },
    {
     "data": {
      "image/png": "[encoded data removed]",
      "text/plain": [
       "<matplotlib.figure.Figure at 0x7f01c50fb810>"
      ]
     },
     "metadata": {},
     "output_type": "display_data"
    }
   ],
   "source": [
    "mean_differences.hist()"
   ]
  },
  {
   "cell_type": "markdown",
   "metadata": {},
   "source": [
    "From the plot, we can see that very few players had a salary decrease after winning a prize and most frequently, players got the most modest increase in their salaries."
   ]
  },
  {
   "cell_type": "code",
   "execution_count": 28,
   "metadata": {
    "collapsed": false
   },
   "outputs": [
    {
     "data": {
      "text/plain": [
       "<matplotlib.axes._subplots.AxesSubplot at 0x7f01c522ebd0>"
      ]
     },
     "execution_count": 28,
     "metadata": {},
     "output_type": "execute_result"
    },
    {
     "data": {
      "image/png": "[encoded data removed]",
      "text/plain": [
       "<matplotlib.figure.Figure at 0x7f01c4ffd310>"
      ]
     },
     "metadata": {},
     "output_type": "display_data"
    }
   ],
   "source": [
    "mean_differences.plot.box()"
   ]
  },
  {
   "cell_type": "markdown",
   "metadata": {
    "collapsed": false
   },
   "source": [
    "This chart gives us a much clearer view of where most of the differences are.\n",
    "\n",
    "Now we want to know how much is that distrbution different from the differences of salaries between two points. In other words a control group.\n",
    "\n",
    "## Calculating the significance\n",
    "\n",
    "In the previous calculations we wanted to know if players that receive an award end up getting bigger salaries in their careers. We identified that indeed, most players end up receiving more than they received before the award. But, is that result significant? Isn't there the possibility that a player will end up receiving more as their careers advances? We need to have a control group to compare with our previous results.\n",
    "\n",
    "It seems reasonable that we should use the control group as players that did not receive any awards. But what time period should I take, in other words what's the moment in the player career that I should take to get the average salary above or below? Lets list the possible problems:\n",
    "\n",
    "* If I take a time period that's too early in the player career the player may have not been able to show its potential and thus its salary may have not started to creep up.\n",
    "* If we take moment that is too late the salary gains may be influenced by the aging of the player.\n",
    "* Finally if we choose that we should compare the salary from the middle of the career there is also the risk that the player salary is so high that the salary differences need to be much greater than on the start of the career to keep the player from changing teams.\n",
    "* There is also inflation that may pose affect the shape of the distribution."
   ]
  },
  {
   "cell_type": "markdown",
   "metadata": {
    "collapsed": false
   },
   "source": [
    "# Dealing with inflation\n",
    "\n",
    "First of all is there any kind of inflation in the salaries?\n",
    "\n",
    "In order to see that I'm going calculate average salary for each year and plot it."
   ]
  },
  {
   "cell_type": "code",
   "execution_count": 32,
   "metadata": {
    "collapsed": false
   },
   "outputs": [
    {
     "data": {
      "text/plain": [
       "<matplotlib.axes._subplots.AxesSubplot at 0x7f01c51f9e10>"
      ]
     },
     "execution_count": 32,
     "metadata": {},
     "output_type": "execute_result"
    },
    {
     "data": {
      "image/png": "[encoded data removed]",
      "text/plain": [
       "<matplotlib.figure.Figure at 0x7f01c5169bd0>"
      ]
     },
     "metadata": {},
     "output_type": "display_data"
    }
   ],
   "source": [
    "average_mean_salaries = salaries_table.groupby('yearID')['salary'].mean()\n",
    "average_mean_salaries.plot()"
   ]
  },
  {
   "cell_type": "markdown",
   "metadata": {},
   "source": [
    "Yep, the inflation is crazy. But I think I can aproximate it with a linear function.\n",
    "\n",
    "    2015*growth_rate + 500000 = average_mean_salaries['2015']\n",
    "    growth_rate = (average_mean_salaries['2015'] - 500000) / 2015\n"
   ]
  },
  {
   "cell_type": "code",
   "execution_count": 96,
   "metadata": {
    "collapsed": false
   },
   "outputs": [
    {
     "name": "stdout",
     "output_type": "stream",
     "text": [
      "4301276\n",
      "1886\n",
      "   yearID teamID lgID   playerID  salary  nomalized_salary\n",
      "0    1985    ATL   NL  barkele01  870000      -5938.293988\n",
      "1    1985    ATL   NL  bedrost01  550000      -1111.651241\n",
      "2    1985    ATL   NL  benedbr01  545000      -1036.234948\n",
      "3    1985    ATL   NL   campri01  633333      -2368.584429\n",
      "4    1985    ATL   NL  ceronri01  625000      -2242.895635\n"
     ]
    },
    {
     "data": {
      "text/plain": [
       "<matplotlib.axes._subplots.AxesSubplot at 0x7f01bc32d410>"
      ]
     },
     "execution_count": 96,
     "metadata": {},
     "output_type": "execute_result"
    },
    {
     "data": {
      "image/png": "[encoded data removed]",
      "text/plain": [
       "<matplotlib.figure.Figure at 0x7f01bc33f190>"
      ]
     },
     "metadata": {},
     "output_type": "display_data"
    }
   ],
   "source": [
    "growth_rate = (average_mean_salaries[2015] - 500000) / (2015)\n",
    "print average_mean_salaries[2015]\n",
    "print growth_rate\n",
    "\n",
    "salaries_table['nomalized_salary'] = (salaries_table['salary'] - average_mean_salaries[1985]) - 0.8835 * (average_mean_salaries[2015] * (salaries_table['salary'] -average_mean_salaries[1985]) /(growth_rate * salaries_table['yearID']))\n",
    "\n",
    "print salaries_table.head()\n",
    "\n",
    "average_normalized_salaries = salaries_table.groupby('yearID')['nomalized_salary'].mean()\n",
    "average_normalized_salaries.plot()"
   ]
  },
  {
   "cell_type": "markdown",
   "metadata": {},
   "source": [
    "And to calculate the years that a player received an award I should do:\n",
    "\n",
    "`msl09AwardYears = awardWinningPlayers[playerID == 'msl09' and playerAward is not None][year] #does is not none work here?`\n",
    "\n",
    "To get a list of all the awards that all players received, grouped by playerID i should do:\n",
    "\n",
    "    playerAwardsGrouped = awardWinningPlayers[playerAward is not None].groupby('playerID')\n",
    "\n",
    "To get the earliest date that each player have received an award?\n",
    "\n",
    "   earliestAwardByPlayer = playerAwardsGrouped['date'].min()\n",
    "\n",
    "Get the all dates below and above the award date??\n",
    "\n",
    "   beforeAwardRecords = awardWinningPlayers[date < earliestAwardByPlayer]\n",
    "   afterAwardRecords = awardWinningPlayers[date > earliestAwardByPlayer]\n",
    "\n",
    "Get the averages\n",
    "\n",
    "   beforeAverages = beforeAwardRecords['salary'].mean()\n",
    "   afterAverages= afterAwardRecords['salary'].mean()\n",
    "\n",
    "Get the difference between before and after award means\n",
    "\n",
    "    salaryMeanDifferences = afterAverages - beforeAverages\n",
    "    \n",
    "Describe findings\n",
    "\n",
    "    salaryMeanDifferences.describe()\n",
    "    salaryMeanDifferences.histogram()\n",
    "\n",
    "\n",
    "And to get the first year that a player received an award I do\n",
    "\n",
    "`msl09FirstYear = msl09AwardYears.min()`\n",
    "\n",
    "And to calculate the average salary for a given player before and after he got an award:\n",
    "\n",
    "`msl09AverageBefore = awardWinningPlayers[playerID == 'msl09' and year < msl09FirstYear]['salary'].average()`\n",
    "`msl09AverageAfter = awardWinningPlayers[playerID == 'msl09' and year > msl09FirstYear]['salary'].average()`\n",
    "\n",
    "Is the salary after the award greater than the salary before the award?\n",
    "\n",
    "    if msl09AverageBefore < msl09AverageAfter:\n",
    "        print 'It is!'\n",
    "    else:\n",
    "        print 'Nope!'"
   ]
  },
  {
   "cell_type": "markdown",
   "metadata": {},
   "source": [
    "## Step Four - Share Your Findings\n",
    "Once you have finished analyzing the data, create a report that shares the findings you found most interesting."
   ]
  },
  {
   "cell_type": "markdown",
   "metadata": {},
   "source": [
    "\n",
    "## Step Five - Review\n",
    "Use the Project Rubric to review your project. If you are happy with your submission, then you're ready to submit your project. If you see room for improvement, keep working to improve your project.\n"
   ]
  },
  {
   "cell_type": "code",
   "execution_count": null,
   "metadata": {
    "collapsed": true
   },
   "outputs": [],
   "source": []
  }
 ],
 "metadata": {
  "kernelspec": {
   "display_name": "Python [Root]",
   "language": "python",
   "name": "Python [Root]"
  },
  "language_info": {
   "codemirror_mode": {
    "name": "ipython",
    "version": 2
   },
   "file_extension": ".py",
   "mimetype": "text/x-python",
   "name": "python",
   "nbconvert_exporter": "python",
   "pygments_lexer": "ipython2",
   "version": "2.7.12"
  }
 },
 "nbformat": 4,
 "nbformat_minor": 0
}
