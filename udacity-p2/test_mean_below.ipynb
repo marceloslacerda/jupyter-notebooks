{
 "cells": [
  {
   "cell_type": "code",
   "execution_count": 22,
   "metadata": {
    "collapsed": false
   },
   "outputs": [
    {
     "name": "stdout",
     "output_type": "stream",
     "text": [
      "          firstAward  salary  yearID\n",
      "playerID                            \n",
      "A                5.0     5.0     5.0\n",
      "B                5.5     5.5     5.5\n"
     ]
    }
   ],
   "source": [
    "import pandas as pd\n",
    "\n",
    "df1 = pd.DataFrame({'playerID': ['A', 'B', 'C'],\n",
    "                    'yearID':   [1,   4,   3]})\n",
    "df2 = pd.DataFrame({'playerID': ['A', 'B', 'D', 'A', 'D', 'B'],\n",
    "                    'yearID':   [0,   2,   4,   3,   5,   3],\n",
    "                    'salary':   [5,   3,   1,   2,   7,   8],\n",
    "                   })\n",
    "\n",
    "df1 = df1.rename(index=str, columns={\"yearID\": \"firstAward\"})\n",
    "\n",
    "merged = df1.merge(df2, on='playerID')\n",
    "grouped = merged.groupby('playerID')\n",
    "def aggregator(df):\n",
    "    return df[df.yearID < df.firstAward]['salary'].mean()\n",
    "\n",
    "print grouped.aggregate(aggregator)"
   ]
  },
  {
   "cell_type": "code",
   "execution_count": null,
   "metadata": {
    "collapsed": true
   },
   "outputs": [],
   "source": []
  }
 ],
 "metadata": {
  "kernelspec": {
   "display_name": "Python [Root]",
   "language": "python",
   "name": "Python [Root]"
  },
  "language_info": {
   "codemirror_mode": {
    "name": "ipython",
    "version": 2
   },
   "file_extension": ".py",
   "mimetype": "text/x-python",
   "name": "python",
   "nbconvert_exporter": "python",
   "pygments_lexer": "ipython2",
   "version": "2.7.12"
  }
 },
 "nbformat": 4,
 "nbformat_minor": 0
}
